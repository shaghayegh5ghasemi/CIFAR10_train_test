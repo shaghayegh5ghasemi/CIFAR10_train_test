{
  "nbformat": 4,
  "nbformat_minor": 0,
  "metadata": {
    "colab": {
      "name": "CNN_CIFAR.ipynb",
      "provenance": [],
      "collapsed_sections": [],
      "include_colab_link": true
    },
    "kernelspec": {
      "name": "python3",
      "display_name": "Python 3"
    },
    "language_info": {
      "name": "python"
    },
    "accelerator": "GPU"
  },
  "cells": [
    {
      "cell_type": "markdown",
      "metadata": {
        "id": "view-in-github",
        "colab_type": "text"
      },
      "source": [
        "<a href=\"https://colab.research.google.com/github/shaghayegh5ghasemi/CIFAR10_train_test/blob/main/CNN_CIFAR.ipynb\" target=\"_parent\"><img src=\"https://colab.research.google.com/assets/colab-badge.svg\" alt=\"Open In Colab\"/></a>"
      ]
    },
    {
      "cell_type": "code",
      "metadata": {
        "colab": {
          "base_uri": "https://localhost:8080/"
        },
        "id": "qeiNG-QR6Nw6",
        "outputId": "565fe19e-7248-493c-96a3-9b994024cec3"
      },
      "source": [
        "!pip install torchsummary"
      ],
      "execution_count": null,
      "outputs": [
        {
          "output_type": "stream",
          "name": "stdout",
          "text": [
            "Requirement already satisfied: torchsummary in /usr/local/lib/python3.7/dist-packages (1.5.1)\n"
          ]
        }
      ]
    },
    {
      "cell_type": "markdown",
      "metadata": {
        "id": "MPwtkf57ByS5"
      },
      "source": [
        "**Import requirements**"
      ]
    },
    {
      "cell_type": "code",
      "metadata": {
        "id": "QVNY-JhhJUQd"
      },
      "source": [
        "import torch\n",
        "import torch.nn as nn\n",
        "import torch.optim as optim\n",
        "import torchvision.datasets as datasets\n",
        "from torch.utils.data import DataLoader\n",
        "import torchvision.transforms as transforms\n",
        "from torchsummary import summary"
      ],
      "execution_count": null,
      "outputs": []
    },
    {
      "cell_type": "markdown",
      "metadata": {
        "id": "2peR2Vi3B8PY"
      },
      "source": [
        "**Load data and define hyperparameters**"
      ]
    },
    {
      "cell_type": "code",
      "metadata": {
        "id": "D1Xqasl2naZe"
      },
      "source": [
        "# device\n",
        "device = torch.device('cuda' if torch.cuda.is_available() else 'cpu')\n",
        "\n",
        "# load our dataset\n",
        "train_data = datasets.CIFAR10(root='dataset/', train=True, transform=transforms.ToTensor(), download=True)\n",
        "train_laoder = DataLoader(dataset=train_data, batch_size=5, shuffle=True)\n",
        "test_data = datasets.CIFAR10(root='dataset/', train=False, transform=transforms.ToTensor(), download=True)\n",
        "test_loader = DataLoader(dataset=test_data, batch_size=1, shuffle=True)\n",
        "\n",
        "# hyperparameters\n",
        "learning_rate = 0.001\n",
        "batch_size = 64\n",
        "num_epochs = 20"
      ],
      "execution_count": null,
      "outputs": []
    },
    {
      "cell_type": "markdown",
      "metadata": {
        "id": "IlRhyRavCEY_"
      },
      "source": [
        "**Implement CNN model**"
      ]
    },
    {
      "cell_type": "code",
      "metadata": {
        "id": "6rdCEjbtU5iH"
      },
      "source": [
        "# our CNN model with three Layers and Relu as an activation function\n",
        "class CNN(nn.Module):\n",
        "  def __init__(self, channels = 3, num_classes = 10):\n",
        "    super().__init__()\n",
        "    self.layer1 = nn.Sequential(\n",
        "        nn.Conv2d(in_channels = channels, out_channels = 16, kernel_size = 3, stride = 1, padding = 1),\n",
        "        nn.ReLU(),\n",
        "        nn.MaxPool2d(kernel_size = 2, stride = 2)\n",
        "    )\n",
        "    self.layer2 = nn.Sequential(\n",
        "        nn.Conv2d(in_channels = 16, out_channels = 32, kernel_size = 3, stride = 1, padding = 1),\n",
        "        nn.ReLU(),\n",
        "        nn.MaxPool2d(kernel_size = 2, stride = 2)\n",
        "    )\n",
        "    self.layer3 = nn.Sequential(\n",
        "        nn.Conv2d(in_channels = 32, out_channels = 64, kernel_size = 3, stride = 1, padding = 1),\n",
        "        nn.ReLU(),\n",
        "        nn.MaxPool2d(kernel_size = 2, stride = 2)\n",
        "    )\n",
        "    self.flat = nn.Flatten()\n",
        "    self.linear = nn.Linear(64*4*4, num_classes)\n",
        "    self.softmax = nn.Softmax(dim=1)\n",
        "\n",
        "  def forward(self, x):\n",
        "    x = self.layer1(x)\n",
        "    x = self.layer2(x)\n",
        "    x = self.layer3(x)\n",
        "    x = self.flat(x)\n",
        "    x = self.linear(x)\n",
        "    x = self.softmax(x)\n",
        "    return x"
      ],
      "execution_count": 15,
      "outputs": []
    },
    {
      "cell_type": "code",
      "metadata": {
        "colab": {
          "base_uri": "https://localhost:8080/"
        },
        "id": "u2jDC4c8z6qT",
        "outputId": "1b109469-48b1-4ef7-8a3e-d62110621ab9"
      },
      "source": [
        "cnn_model = CNN().to(device)\n",
        "summary(cnn_model, (3, 32, 32))"
      ],
      "execution_count": 14,
      "outputs": [
        {
          "output_type": "stream",
          "name": "stdout",
          "text": [
            "==========================================================================================\n",
            "Layer (type:depth-idx)                   Output Shape              Param #\n",
            "==========================================================================================\n",
            "├─Sequential: 1-1                        [-1, 16, 16, 16]          --\n",
            "|    └─Conv2d: 2-1                       [-1, 16, 32, 32]          448\n",
            "|    └─ReLU: 2-2                         [-1, 16, 32, 32]          --\n",
            "|    └─MaxPool2d: 2-3                    [-1, 16, 16, 16]          --\n",
            "├─Sequential: 1-2                        [-1, 32, 8, 8]            --\n",
            "|    └─Conv2d: 2-4                       [-1, 32, 16, 16]          4,640\n",
            "|    └─ReLU: 2-5                         [-1, 32, 16, 16]          --\n",
            "|    └─MaxPool2d: 2-6                    [-1, 32, 8, 8]            --\n",
            "├─Sequential: 1-3                        [-1, 64, 4, 4]            --\n",
            "|    └─Conv2d: 2-7                       [-1, 64, 8, 8]            18,496\n",
            "|    └─ReLU: 2-8                         [-1, 64, 8, 8]            --\n",
            "|    └─MaxPool2d: 2-9                    [-1, 64, 4, 4]            --\n",
            "├─Flatten: 1-4                           [-1, 1024]                --\n",
            "==========================================================================================\n",
            "Total params: 23,584\n",
            "Trainable params: 23,584\n",
            "Non-trainable params: 0\n",
            "Total mult-adds (M): 2.83\n",
            "==========================================================================================\n",
            "Input size (MB): 0.01\n",
            "Forward/backward pass size (MB): 0.22\n",
            "Params size (MB): 0.09\n",
            "Estimated Total Size (MB): 0.32\n",
            "==========================================================================================\n"
          ]
        },
        {
          "output_type": "stream",
          "name": "stderr",
          "text": [
            "/usr/local/lib/python3.7/dist-packages/torch/nn/functional.py:718: UserWarning: Named tensors and all their associated APIs are an experimental feature and subject to change. Please do not use them for anything important until they are released as stable. (Triggered internally at  /pytorch/c10/core/TensorImpl.h:1156.)\n",
            "  return torch.max_pool2d(input, kernel_size, stride, padding, dilation, ceil_mode)\n"
          ]
        },
        {
          "output_type": "execute_result",
          "data": {
            "text/plain": [
              "==========================================================================================\n",
              "Layer (type:depth-idx)                   Output Shape              Param #\n",
              "==========================================================================================\n",
              "├─Sequential: 1-1                        [-1, 16, 16, 16]          --\n",
              "|    └─Conv2d: 2-1                       [-1, 16, 32, 32]          448\n",
              "|    └─ReLU: 2-2                         [-1, 16, 32, 32]          --\n",
              "|    └─MaxPool2d: 2-3                    [-1, 16, 16, 16]          --\n",
              "├─Sequential: 1-2                        [-1, 32, 8, 8]            --\n",
              "|    └─Conv2d: 2-4                       [-1, 32, 16, 16]          4,640\n",
              "|    └─ReLU: 2-5                         [-1, 32, 16, 16]          --\n",
              "|    └─MaxPool2d: 2-6                    [-1, 32, 8, 8]            --\n",
              "├─Sequential: 1-3                        [-1, 64, 4, 4]            --\n",
              "|    └─Conv2d: 2-7                       [-1, 64, 8, 8]            18,496\n",
              "|    └─ReLU: 2-8                         [-1, 64, 8, 8]            --\n",
              "|    └─MaxPool2d: 2-9                    [-1, 64, 4, 4]            --\n",
              "├─Flatten: 1-4                           [-1, 1024]                --\n",
              "==========================================================================================\n",
              "Total params: 23,584\n",
              "Trainable params: 23,584\n",
              "Non-trainable params: 0\n",
              "Total mult-adds (M): 2.83\n",
              "==========================================================================================\n",
              "Input size (MB): 0.01\n",
              "Forward/backward pass size (MB): 0.22\n",
              "Params size (MB): 0.09\n",
              "Estimated Total Size (MB): 0.32\n",
              "=========================================================================================="
            ]
          },
          "metadata": {},
          "execution_count": 14
        }
      ]
    },
    {
      "cell_type": "markdown",
      "metadata": {
        "id": "OSKiSf6PCLKV"
      },
      "source": [
        "**Train data**"
      ]
    },
    {
      "cell_type": "code",
      "metadata": {
        "id": "ZEujIv32-pMO"
      },
      "source": [
        "# loss function and optimizer\n",
        "criterion = nn.CrossEntropyLoss()\n",
        "optimizer = optim.Adam(cnn_model.parameters(), lr=learning_rate)\n",
        "\n",
        "# train data\n",
        "def train(train_loader, num_epochs):\n",
        "  for epoch in range(num_epochs):\n",
        "    for data, labels in train_loader:\n",
        "      data = data.to(device)\n",
        "      labels = lables.to(device)\n",
        "      output = cnn_model(data)\n",
        "      loss = criterion(output, labels)\n",
        "      optimizer.zero_grad()\n",
        "      loss.backward()\n",
        "      optimizer.step()"
      ],
      "execution_count": 11,
      "outputs": []
    }
  ]
}