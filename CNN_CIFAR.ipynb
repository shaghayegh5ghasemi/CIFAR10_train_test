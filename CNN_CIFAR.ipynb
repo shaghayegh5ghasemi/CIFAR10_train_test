{
  "nbformat": 4,
  "nbformat_minor": 0,
  "metadata": {
    "colab": {
      "name": "CNN_CIFAR.ipynb",
      "provenance": [],
      "collapsed_sections": [],
      "include_colab_link": true
    },
    "kernelspec": {
      "name": "python3",
      "display_name": "Python 3"
    },
    "language_info": {
      "name": "python"
    },
    "accelerator": "GPU"
  },
  "cells": [
    {
      "cell_type": "markdown",
      "metadata": {
        "id": "view-in-github",
        "colab_type": "text"
      },
      "source": [
        "<a href=\"https://colab.research.google.com/github/shaghayegh5ghasemi/CIFAR10_train_test/blob/main/CNN_CIFAR.ipynb\" target=\"_parent\"><img src=\"https://colab.research.google.com/assets/colab-badge.svg\" alt=\"Open In Colab\"/></a>"
      ]
    },
    {
      "cell_type": "code",
      "metadata": {
        "colab": {
          "base_uri": "https://localhost:8080/"
        },
        "id": "qeiNG-QR6Nw6",
        "outputId": "17f2a37e-359b-445d-ea31-45a85eebd7c5"
      },
      "source": [
        "!pip install torchsummary"
      ],
      "execution_count": 1,
      "outputs": [
        {
          "output_type": "stream",
          "name": "stdout",
          "text": [
            "Requirement already satisfied: torchsummary in /usr/local/lib/python3.7/dist-packages (1.5.1)\n"
          ]
        }
      ]
    },
    {
      "cell_type": "markdown",
      "metadata": {
        "id": "MPwtkf57ByS5"
      },
      "source": [
        "**Import requirements**"
      ]
    },
    {
      "cell_type": "code",
      "metadata": {
        "id": "QVNY-JhhJUQd"
      },
      "source": [
        "import torch\n",
        "import torch.nn as nn\n",
        "import torch.optim as optim\n",
        "import torchvision.datasets as datasets\n",
        "from torch.utils.data import DataLoader\n",
        "import torchvision.transforms as transforms\n",
        "from torchsummary import summary"
      ],
      "execution_count": 1,
      "outputs": []
    },
    {
      "cell_type": "markdown",
      "metadata": {
        "id": "2peR2Vi3B8PY"
      },
      "source": [
        "**Load data and define hyperparameters**"
      ]
    },
    {
      "cell_type": "code",
      "metadata": {
        "id": "D1Xqasl2naZe",
        "colab": {
          "base_uri": "https://localhost:8080/"
        },
        "outputId": "a12861e7-61a6-4f77-ec1f-5d5398994f9c"
      },
      "source": [
        "# device\n",
        "device = torch.device('cuda' if torch.cuda.is_available() else 'cpu')\n",
        "\n",
        "# load our dataset\n",
        "train_data = datasets.CIFAR10(root='dataset/', train=True, transform=transforms.ToTensor(), download=True)\n",
        "train_loader = DataLoader(dataset=train_data, batch_size=5, shuffle=True)\n",
        "test_data = datasets.CIFAR10(root='dataset/', train=False, transform=transforms.ToTensor(), download=True)\n",
        "test_loader = DataLoader(dataset=test_data, batch_size=1, shuffle=True)\n",
        "\n",
        "# hyperparameters\n",
        "learning_rate = 0.0001\n",
        "batch_size = 64\n",
        "num_epochs = 50"
      ],
      "execution_count": 2,
      "outputs": [
        {
          "output_type": "stream",
          "name": "stdout",
          "text": [
            "Files already downloaded and verified\n",
            "Files already downloaded and verified\n"
          ]
        }
      ]
    },
    {
      "cell_type": "markdown",
      "metadata": {
        "id": "IlRhyRavCEY_"
      },
      "source": [
        "**Implement CNN model**"
      ]
    },
    {
      "cell_type": "code",
      "metadata": {
        "id": "6rdCEjbtU5iH"
      },
      "source": [
        "# our CNN model with four Layers and Relu as an activation function\n",
        "class CNN(nn.Module):\n",
        "  def __init__(self, channels = 3, num_classes = 10):\n",
        "    super().__init__()\n",
        "    self.layer1 = nn.Sequential(\n",
        "        nn.Conv2d(in_channels = channels, out_channels = 16, kernel_size = 3, stride = 1, padding = 1),\n",
        "        nn.ReLU(),\n",
        "        nn.MaxPool2d(kernel_size = 2)\n",
        "    )\n",
        "    self.layer2 = nn.Sequential(\n",
        "        nn.Conv2d(in_channels = 16, out_channels = 32, kernel_size = 3, stride = 1, padding = 1),\n",
        "        nn.ReLU(),\n",
        "        nn.MaxPool2d(kernel_size = 2)\n",
        "    )\n",
        "    self.layer3 = nn.Sequential(\n",
        "        nn.Conv2d(in_channels = 32, out_channels = 64, kernel_size = 3, stride = 1, padding = 1),\n",
        "        nn.ReLU(),\n",
        "        nn.MaxPool2d(kernel_size = 2)\n",
        "    )\n",
        "    self.layer4 = nn.Sequential(\n",
        "        nn.Conv2d(in_channels = 64, out_channels = 128, kernel_size = 3, stride = 1, padding = 1),\n",
        "        nn.ReLU(),\n",
        "        nn.MaxPool2d(kernel_size = 2)\n",
        "    )\n",
        "    self.flat = nn.Flatten()\n",
        "    self.linear = nn.Linear(128*2*2, num_classes)\n",
        "    self.softmax = nn.Softmax(dim=1)\n",
        "\n",
        "  def forward(self, x):\n",
        "    x = self.layer1(x)\n",
        "    x = self.layer2(x)\n",
        "    x = self.layer3(x)\n",
        "    x = self.layer4(x)\n",
        "    x = self.flat(x)\n",
        "    x = self.linear(x)\n",
        "    x = self.softmax(x)\n",
        "    return x"
      ],
      "execution_count": 3,
      "outputs": []
    },
    {
      "cell_type": "code",
      "metadata": {
        "colab": {
          "base_uri": "https://localhost:8080/"
        },
        "id": "u2jDC4c8z6qT",
        "outputId": "b25507ac-31cf-4d5e-d6f0-aaaf1f3f940d"
      },
      "source": [
        "cnn_model = CNN().to(device)\n",
        "summary(cnn_model, (3, 32, 32))"
      ],
      "execution_count": 4,
      "outputs": [
        {
          "output_type": "stream",
          "name": "stdout",
          "text": [
            "----------------------------------------------------------------\n",
            "        Layer (type)               Output Shape         Param #\n",
            "================================================================\n",
            "            Conv2d-1           [-1, 16, 32, 32]             448\n",
            "              ReLU-2           [-1, 16, 32, 32]               0\n",
            "         MaxPool2d-3           [-1, 16, 16, 16]               0\n",
            "            Conv2d-4           [-1, 32, 16, 16]           4,640\n",
            "              ReLU-5           [-1, 32, 16, 16]               0\n",
            "         MaxPool2d-6             [-1, 32, 8, 8]               0\n",
            "            Conv2d-7             [-1, 64, 8, 8]          18,496\n",
            "              ReLU-8             [-1, 64, 8, 8]               0\n",
            "         MaxPool2d-9             [-1, 64, 4, 4]               0\n",
            "           Conv2d-10            [-1, 128, 4, 4]          73,856\n",
            "             ReLU-11            [-1, 128, 4, 4]               0\n",
            "        MaxPool2d-12            [-1, 128, 2, 2]               0\n",
            "          Flatten-13                  [-1, 512]               0\n",
            "           Linear-14                   [-1, 10]           5,130\n",
            "          Softmax-15                   [-1, 10]               0\n",
            "================================================================\n",
            "Total params: 102,570\n",
            "Trainable params: 102,570\n",
            "Non-trainable params: 0\n",
            "----------------------------------------------------------------\n",
            "Input size (MB): 0.01\n",
            "Forward/backward pass size (MB): 0.53\n",
            "Params size (MB): 0.39\n",
            "Estimated Total Size (MB): 0.93\n",
            "----------------------------------------------------------------\n"
          ]
        },
        {
          "output_type": "stream",
          "name": "stderr",
          "text": [
            "/usr/local/lib/python3.7/dist-packages/torch/nn/functional.py:718: UserWarning: Named tensors and all their associated APIs are an experimental feature and subject to change. Please do not use them for anything important until they are released as stable. (Triggered internally at  /pytorch/c10/core/TensorImpl.h:1156.)\n",
            "  return torch.max_pool2d(input, kernel_size, stride, padding, dilation, ceil_mode)\n"
          ]
        }
      ]
    },
    {
      "cell_type": "markdown",
      "metadata": {
        "id": "OSKiSf6PCLKV"
      },
      "source": [
        "**Train data**"
      ]
    },
    {
      "cell_type": "code",
      "metadata": {
        "id": "ZEujIv32-pMO"
      },
      "source": [
        "# loss function and optimizer\n",
        "criterion = nn.CrossEntropyLoss()\n",
        "optimizer = optim.Adam(cnn_model.parameters(), lr=learning_rate)\n",
        "\n",
        "# train data\n",
        "def train(model, train_loader, num_epochs):\n",
        "  model.train()\n",
        "  for epoch in range(num_epochs):\n",
        "    print(f\" Epoch: {epoch+1}\")\n",
        "    for batch_index, (data, targets) in enumerate(train_loader):\n",
        "      data = data.to(device=device)\n",
        "      targets = targets.to(device=device)\n",
        "      output = model(data)\n",
        "      loss = criterion(output, targets)\n",
        "      optimizer.zero_grad()\n",
        "      loss.backward()\n",
        "      optimizer.step()\n",
        "    print(f\"loss after this epoch: {loss.item()}\")\n",
        "    print(\"---------------------------------------------\")\n",
        "\n",
        "# check the acuuracy of the model\n",
        "def checkaccuracy(model, loader):\n",
        "  if loader.dataset.train:\n",
        "    print(\"Checking accuracy on training data\")\n",
        "  else:\n",
        "    print(\"Checking accuracy on testing data\")\n",
        "  corrects = 0\n",
        "  samples = 0\n",
        "  model.eval()\n",
        "  with torch.no_grad():\n",
        "    for x, label in loader:\n",
        "      x = x.to(device)\n",
        "      label = label.to(device)\n",
        "      outputs = model(x)\n",
        "      _, predictions = outputs.max(1)\n",
        "      corrects += (predictions == label).sum()\n",
        "      samples += predictions.size(0)\n",
        "\n",
        "  print(f'Got {corrects}/{samples} with the accuracy of {float(corrects)/float(samples)*100:.2f}')\n",
        "  model.train()"
      ],
      "execution_count": 5,
      "outputs": []
    },
    {
      "cell_type": "code",
      "metadata": {
        "colab": {
          "base_uri": "https://localhost:8080/"
        },
        "id": "oqo5A-ujUiye",
        "outputId": "b3b13f98-adf0-4757-cfea-5fbdd7bcbfca"
      },
      "source": [
        "train(cnn_model, train_loader, num_epochs)\n",
        "checkaccuracy(cnn_model, test_loader)"
      ],
      "execution_count": 6,
      "outputs": [
        {
          "output_type": "stream",
          "name": "stdout",
          "text": [
            " Epoch: 1\n",
            "loss after this epoch: 2.220402240753174\n",
            "---------------------------------------------\n",
            " Epoch: 2\n",
            "loss after this epoch: 1.7277275323867798\n",
            "---------------------------------------------\n",
            " Epoch: 3\n",
            "loss after this epoch: 1.890403389930725\n",
            "---------------------------------------------\n",
            " Epoch: 4\n",
            "loss after this epoch: 2.291689157485962\n",
            "---------------------------------------------\n",
            " Epoch: 5\n",
            "loss after this epoch: 2.106693744659424\n",
            "---------------------------------------------\n",
            " Epoch: 6\n",
            "loss after this epoch: 1.4849392175674438\n",
            "---------------------------------------------\n",
            " Epoch: 7\n",
            "loss after this epoch: 1.9287641048431396\n",
            "---------------------------------------------\n",
            " Epoch: 8\n",
            "loss after this epoch: 1.863483190536499\n",
            "---------------------------------------------\n",
            " Epoch: 9\n",
            "loss after this epoch: 1.777593970298767\n",
            "---------------------------------------------\n",
            " Epoch: 10\n",
            "loss after this epoch: 1.6861412525177002\n",
            "---------------------------------------------\n",
            " Epoch: 11\n",
            "loss after this epoch: 1.6864570379257202\n",
            "---------------------------------------------\n",
            " Epoch: 12\n",
            "loss after this epoch: 2.083085298538208\n",
            "---------------------------------------------\n",
            " Epoch: 13\n",
            "loss after this epoch: 2.1263365745544434\n",
            "---------------------------------------------\n",
            " Epoch: 14\n",
            "loss after this epoch: 1.9140746593475342\n",
            "---------------------------------------------\n",
            " Epoch: 15\n",
            "loss after this epoch: 1.7656253576278687\n",
            "---------------------------------------------\n",
            " Epoch: 16\n",
            "loss after this epoch: 2.0063233375549316\n",
            "---------------------------------------------\n",
            " Epoch: 17\n",
            "loss after this epoch: 1.8581016063690186\n",
            "---------------------------------------------\n",
            " Epoch: 18\n",
            "loss after this epoch: 1.5736353397369385\n",
            "---------------------------------------------\n",
            " Epoch: 19\n",
            "loss after this epoch: 1.480807900428772\n",
            "---------------------------------------------\n",
            " Epoch: 20\n",
            "loss after this epoch: 1.8635833263397217\n",
            "---------------------------------------------\n",
            " Epoch: 21\n",
            "loss after this epoch: 1.7011932134628296\n",
            "---------------------------------------------\n",
            " Epoch: 22\n",
            "loss after this epoch: 1.8206828832626343\n",
            "---------------------------------------------\n",
            " Epoch: 23\n",
            "loss after this epoch: 2.2584590911865234\n",
            "---------------------------------------------\n",
            " Epoch: 24\n",
            "loss after this epoch: 1.7644542455673218\n",
            "---------------------------------------------\n",
            " Epoch: 25\n",
            "loss after this epoch: 2.0543618202209473\n",
            "---------------------------------------------\n",
            " Epoch: 26\n",
            "loss after this epoch: 1.6613670587539673\n",
            "---------------------------------------------\n",
            " Epoch: 27\n",
            "loss after this epoch: 1.6617311239242554\n",
            "---------------------------------------------\n",
            " Epoch: 28\n",
            "loss after this epoch: 1.635114312171936\n",
            "---------------------------------------------\n",
            " Epoch: 29\n",
            "loss after this epoch: 1.8183507919311523\n",
            "---------------------------------------------\n",
            " Epoch: 30\n",
            "loss after this epoch: 2.061399459838867\n",
            "---------------------------------------------\n",
            " Epoch: 31\n",
            "loss after this epoch: 1.4658552408218384\n",
            "---------------------------------------------\n",
            " Epoch: 32\n",
            "loss after this epoch: 1.475719690322876\n",
            "---------------------------------------------\n",
            " Epoch: 33\n",
            "loss after this epoch: 1.647191047668457\n",
            "---------------------------------------------\n",
            " Epoch: 34\n",
            "loss after this epoch: 1.665838599205017\n",
            "---------------------------------------------\n",
            " Epoch: 35\n",
            "loss after this epoch: 1.4669369459152222\n",
            "---------------------------------------------\n",
            " Epoch: 36\n",
            "loss after this epoch: 1.6821781396865845\n",
            "---------------------------------------------\n",
            " Epoch: 37\n",
            "loss after this epoch: 1.8589630126953125\n",
            "---------------------------------------------\n",
            " Epoch: 38\n",
            "loss after this epoch: 1.5464487075805664\n",
            "---------------------------------------------\n",
            " Epoch: 39\n",
            "loss after this epoch: 1.4722896814346313\n",
            "---------------------------------------------\n",
            " Epoch: 40\n",
            "loss after this epoch: 1.661562204360962\n",
            "---------------------------------------------\n",
            " Epoch: 41\n",
            "loss after this epoch: 1.6589587926864624\n",
            "---------------------------------------------\n",
            " Epoch: 42\n",
            "loss after this epoch: 1.6610143184661865\n",
            "---------------------------------------------\n",
            " Epoch: 43\n",
            "loss after this epoch: 1.6290699243545532\n",
            "---------------------------------------------\n",
            " Epoch: 44\n",
            "loss after this epoch: 1.488130807876587\n",
            "---------------------------------------------\n",
            " Epoch: 45\n",
            "loss after this epoch: 1.8611217737197876\n",
            "---------------------------------------------\n",
            " Epoch: 46\n",
            "loss after this epoch: 1.661134123802185\n",
            "---------------------------------------------\n",
            " Epoch: 47\n",
            "loss after this epoch: 2.0608761310577393\n",
            "---------------------------------------------\n",
            " Epoch: 48\n",
            "loss after this epoch: 1.6588455438613892\n",
            "---------------------------------------------\n",
            " Epoch: 49\n",
            "loss after this epoch: 1.6611614227294922\n",
            "---------------------------------------------\n",
            " Epoch: 50\n",
            "loss after this epoch: 1.4617481231689453\n",
            "---------------------------------------------\n",
            "Checking accuracy on testing data\n",
            "Got 6870/10000 with the accuracy of 68.70\n"
          ]
        }
      ]
    }
  ]
}