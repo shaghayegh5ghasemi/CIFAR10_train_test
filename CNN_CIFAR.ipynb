{
  "nbformat": 4,
  "nbformat_minor": 0,
  "metadata": {
    "colab": {
      "name": "CNN_CIFAR.ipynb",
      "provenance": [],
      "collapsed_sections": [],
      "include_colab_link": true
    },
    "kernelspec": {
      "name": "python3",
      "display_name": "Python 3"
    },
    "language_info": {
      "name": "python"
    },
    "accelerator": "GPU"
  },
  "cells": [
    {
      "cell_type": "markdown",
      "metadata": {
        "id": "view-in-github",
        "colab_type": "text"
      },
      "source": [
        "<a href=\"https://colab.research.google.com/github/shaghayegh5ghasemi/CIFAR10_train_test/blob/main/CNN_CIFAR.ipynb\" target=\"_parent\"><img src=\"https://colab.research.google.com/assets/colab-badge.svg\" alt=\"Open In Colab\"/></a>"
      ]
    },
    {
      "cell_type": "code",
      "metadata": {
        "colab": {
          "base_uri": "https://localhost:8080/"
        },
        "id": "qeiNG-QR6Nw6",
        "outputId": "565fe19e-7248-493c-96a3-9b994024cec3"
      },
      "source": [
        "!pip install torchsummary"
      ],
      "execution_count": null,
      "outputs": [
        {
          "output_type": "stream",
          "name": "stdout",
          "text": [
            "Requirement already satisfied: torchsummary in /usr/local/lib/python3.7/dist-packages (1.5.1)\n"
          ]
        }
      ]
    },
    {
      "cell_type": "markdown",
      "metadata": {
        "id": "MPwtkf57ByS5"
      },
      "source": [
        "**Import requirements**"
      ]
    },
    {
      "cell_type": "code",
      "metadata": {
        "id": "QVNY-JhhJUQd"
      },
      "source": [
        "import torch\n",
        "import torch.nn as nn\n",
        "import torch.optim as optim\n",
        "import torchvision.datasets as datasets\n",
        "from torch.utils.data import DataLoader\n",
        "import torchvision.transforms as transforms\n",
        "from torchsummary import summary"
      ],
      "execution_count": null,
      "outputs": []
    },
    {
      "cell_type": "markdown",
      "metadata": {
        "id": "2peR2Vi3B8PY"
      },
      "source": [
        "**Load data and define hyperparameters**"
      ]
    },
    {
      "cell_type": "code",
      "metadata": {
        "id": "D1Xqasl2naZe",
        "colab": {
          "base_uri": "https://localhost:8080/"
        },
        "outputId": "1e4bf633-32b3-46f8-faea-35dc759585e9"
      },
      "source": [
        "# device\n",
        "device = torch.device('cuda' if torch.cuda.is_available() else 'cpu')\n",
        "\n",
        "# load our dataset\n",
        "train_data = datasets.CIFAR10(root='dataset/', train=True, transform=transforms.ToTensor(), download=True)\n",
        "train_loader = DataLoader(dataset=train_data, batch_size=5, shuffle=True)\n",
        "test_data = datasets.CIFAR10(root='dataset/', train=False, transform=transforms.ToTensor(), download=True)\n",
        "test_loader = DataLoader(dataset=test_data, batch_size=1, shuffle=True)\n",
        "\n",
        "# hyperparameters\n",
        "learning_rate = 0.002\n",
        "batch_size = 32\n",
        "num_epochs = 50"
      ],
      "execution_count": 34,
      "outputs": [
        {
          "output_type": "stream",
          "name": "stdout",
          "text": [
            "Files already downloaded and verified\n",
            "Files already downloaded and verified\n"
          ]
        }
      ]
    },
    {
      "cell_type": "markdown",
      "metadata": {
        "id": "IlRhyRavCEY_"
      },
      "source": [
        "**Implement CNN model**"
      ]
    },
    {
      "cell_type": "code",
      "metadata": {
        "id": "6rdCEjbtU5iH"
      },
      "source": [
        "# our CNN model with three Layers and Relu as an activation function\n",
        "class CNN(nn.Module):\n",
        "  def __init__(self, channels = 3, num_classes = 10):\n",
        "    super().__init__()\n",
        "    self.layer1 = nn.Sequential(\n",
        "        nn.Conv2d(in_channels = channels, out_channels = 32, kernel_size = 3, stride = 1, padding = 1),\n",
        "        nn.ReLU(),\n",
        "        nn.MaxPool2d(kernel_size = 2, stride = 2)\n",
        "    )\n",
        "    self.layer2 = nn.Sequential(\n",
        "        nn.Conv2d(in_channels = 32, out_channels = 64, kernel_size = 3, stride = 1, padding = 1),\n",
        "        nn.ReLU(),\n",
        "        nn.MaxPool2d(kernel_size = 2, stride = 2)\n",
        "    )\n",
        "    self.layer3 = nn.Sequential(\n",
        "        nn.Conv2d(in_channels = 64, out_channels = 128, kernel_size = 3, stride = 1, padding = 1),\n",
        "        nn.ReLU(),\n",
        "        nn.MaxPool2d(kernel_size = 2, stride = 2)\n",
        "    )\n",
        "    self.flat = nn.Flatten()\n",
        "    self.linear = nn.Linear(128*4*4, num_classes)\n",
        "    self.softmax = nn.Softmax(dim=1)\n",
        "\n",
        "  def forward(self, x):\n",
        "    x = self.layer1(x)\n",
        "    x = self.layer2(x)\n",
        "    x = self.layer3(x)\n",
        "    x = self.flat(x)\n",
        "    x = self.linear(x)\n",
        "    x = self.softmax(x)\n",
        "    return x"
      ],
      "execution_count": 39,
      "outputs": []
    },
    {
      "cell_type": "code",
      "metadata": {
        "colab": {
          "base_uri": "https://localhost:8080/"
        },
        "id": "u2jDC4c8z6qT",
        "outputId": "375b10fe-acd6-4b7f-b37d-9f98c8d26a82"
      },
      "source": [
        "cnn_model = CNN().to(device)\n",
        "summary(cnn_model, (3, 32, 32))"
      ],
      "execution_count": 40,
      "outputs": [
        {
          "output_type": "stream",
          "name": "stdout",
          "text": [
            "==========================================================================================\n",
            "Layer (type:depth-idx)                   Output Shape              Param #\n",
            "==========================================================================================\n",
            "├─Sequential: 1-1                        [-1, 32, 16, 16]          --\n",
            "|    └─Conv2d: 2-1                       [-1, 32, 32, 32]          896\n",
            "|    └─ReLU: 2-2                         [-1, 32, 32, 32]          --\n",
            "|    └─MaxPool2d: 2-3                    [-1, 32, 16, 16]          --\n",
            "├─Sequential: 1-2                        [-1, 64, 8, 8]            --\n",
            "|    └─Conv2d: 2-4                       [-1, 64, 16, 16]          18,496\n",
            "|    └─ReLU: 2-5                         [-1, 64, 16, 16]          --\n",
            "|    └─MaxPool2d: 2-6                    [-1, 64, 8, 8]            --\n",
            "├─Sequential: 1-3                        [-1, 128, 4, 4]           --\n",
            "|    └─Conv2d: 2-7                       [-1, 128, 8, 8]           73,856\n",
            "|    └─ReLU: 2-8                         [-1, 128, 8, 8]           --\n",
            "|    └─MaxPool2d: 2-9                    [-1, 128, 4, 4]           --\n",
            "├─Flatten: 1-4                           [-1, 2048]                --\n",
            "├─Linear: 1-5                            [-1, 10]                  20,490\n",
            "├─Softmax: 1-6                           [-1, 10]                  --\n",
            "==========================================================================================\n",
            "Total params: 113,738\n",
            "Trainable params: 113,738\n",
            "Non-trainable params: 0\n",
            "Total mult-adds (M): 10.44\n",
            "==========================================================================================\n",
            "Input size (MB): 0.01\n",
            "Forward/backward pass size (MB): 0.44\n",
            "Params size (MB): 0.43\n",
            "Estimated Total Size (MB): 0.88\n",
            "==========================================================================================\n"
          ]
        },
        {
          "output_type": "execute_result",
          "data": {
            "text/plain": [
              "==========================================================================================\n",
              "Layer (type:depth-idx)                   Output Shape              Param #\n",
              "==========================================================================================\n",
              "├─Sequential: 1-1                        [-1, 32, 16, 16]          --\n",
              "|    └─Conv2d: 2-1                       [-1, 32, 32, 32]          896\n",
              "|    └─ReLU: 2-2                         [-1, 32, 32, 32]          --\n",
              "|    └─MaxPool2d: 2-3                    [-1, 32, 16, 16]          --\n",
              "├─Sequential: 1-2                        [-1, 64, 8, 8]            --\n",
              "|    └─Conv2d: 2-4                       [-1, 64, 16, 16]          18,496\n",
              "|    └─ReLU: 2-5                         [-1, 64, 16, 16]          --\n",
              "|    └─MaxPool2d: 2-6                    [-1, 64, 8, 8]            --\n",
              "├─Sequential: 1-3                        [-1, 128, 4, 4]           --\n",
              "|    └─Conv2d: 2-7                       [-1, 128, 8, 8]           73,856\n",
              "|    └─ReLU: 2-8                         [-1, 128, 8, 8]           --\n",
              "|    └─MaxPool2d: 2-9                    [-1, 128, 4, 4]           --\n",
              "├─Flatten: 1-4                           [-1, 2048]                --\n",
              "├─Linear: 1-5                            [-1, 10]                  20,490\n",
              "├─Softmax: 1-6                           [-1, 10]                  --\n",
              "==========================================================================================\n",
              "Total params: 113,738\n",
              "Trainable params: 113,738\n",
              "Non-trainable params: 0\n",
              "Total mult-adds (M): 10.44\n",
              "==========================================================================================\n",
              "Input size (MB): 0.01\n",
              "Forward/backward pass size (MB): 0.44\n",
              "Params size (MB): 0.43\n",
              "Estimated Total Size (MB): 0.88\n",
              "=========================================================================================="
            ]
          },
          "metadata": {},
          "execution_count": 40
        }
      ]
    },
    {
      "cell_type": "markdown",
      "metadata": {
        "id": "OSKiSf6PCLKV"
      },
      "source": [
        "**Train data**"
      ]
    },
    {
      "cell_type": "code",
      "metadata": {
        "id": "ZEujIv32-pMO"
      },
      "source": [
        "# loss function and optimizer\n",
        "criterion = nn.CrossEntropyLoss()\n",
        "optimizer = optim.Adam(cnn_model.parameters(), lr=learning_rate)\n",
        "\n",
        "# train data\n",
        "def train(model, train_loader, num_epochs):\n",
        "  model.train()\n",
        "  for epoch in range(num_epochs):\n",
        "    print(f\" Epoch: {epoch+1}\")\n",
        "    for batch_index, (data, targets) in enumerate(train_loader):\n",
        "      data = data.to(device=device)\n",
        "      targets = targets.to(device=device)\n",
        "      output = model(data)\n",
        "      loss = criterion(output, targets)\n",
        "      optimizer.zero_grad()\n",
        "      loss.backward()\n",
        "      optimizer.step()\n",
        "    print(f\"loss after this epoch: {loss.item()}\")\n",
        "    print(\"---------------------------------------------\")\n",
        "\n",
        "# check the acuuracy of the model\n",
        "def checkaccuracy(model, loader):\n",
        "  if loader.dataset.train:\n",
        "    print(\"Checking accuracy on training data\")\n",
        "  else:\n",
        "    print(\"Checking accuracy on testing data\")\n",
        "  corrects = 0\n",
        "  samples = 0\n",
        "  model.eval()\n",
        "  with torch.no_grad():\n",
        "    for x, label in loader:\n",
        "      x = x.to(device)\n",
        "      label = label.to(device)\n",
        "      outputs = model(x)\n",
        "      _, predictions = outputs.max(1)\n",
        "      corrects += (predictions == label).sum()\n",
        "      samples += predictions.size(0)\n",
        "\n",
        "  print(f'Got {corrects}/{samples} with the accuracy of {float(corrects)/float(samples)*100:.2f}')\n",
        "  model.train()"
      ],
      "execution_count": 41,
      "outputs": []
    },
    {
      "cell_type": "code",
      "metadata": {
        "colab": {
          "base_uri": "https://localhost:8080/"
        },
        "id": "oqo5A-ujUiye",
        "outputId": "86c12957-0560-4f09-f745-1b5e8776a338"
      },
      "source": [
        "train(cnn_model, train_loader, num_epochs)\n",
        "checkaccuracy(cnn_model, test_loader)"
      ],
      "execution_count": 42,
      "outputs": [
        {
          "output_type": "stream",
          "name": "stdout",
          "text": [
            " Epoch: 1\n",
            "loss after this epoch: 1.8611485958099365\n",
            "---------------------------------------------\n",
            " Epoch: 2\n",
            "loss after this epoch: 2.4611496925354004\n",
            "---------------------------------------------\n",
            " Epoch: 3\n",
            "loss after this epoch: 1.8587656021118164\n",
            "---------------------------------------------\n",
            " Epoch: 4\n",
            "loss after this epoch: 2.059753179550171\n",
            "---------------------------------------------\n",
            " Epoch: 5\n",
            "loss after this epoch: 2.061150074005127\n",
            "---------------------------------------------\n",
            " Epoch: 6\n",
            "loss after this epoch: 2.061150074005127\n",
            "---------------------------------------------\n",
            " Epoch: 7\n",
            "loss after this epoch: 2.4611501693725586\n",
            "---------------------------------------------\n",
            " Epoch: 8\n",
            "loss after this epoch: 2.061150074005127\n",
            "---------------------------------------------\n",
            " Epoch: 9\n",
            "loss after this epoch: 2.2611501216888428\n",
            "---------------------------------------------\n",
            " Epoch: 10\n",
            "loss after this epoch: 2.061150074005127\n",
            "---------------------------------------------\n",
            " Epoch: 11\n",
            "loss after this epoch: 2.061150074005127\n",
            "---------------------------------------------\n",
            " Epoch: 12\n",
            "loss after this epoch: 2.061150074005127\n",
            "---------------------------------------------\n",
            " Epoch: 13\n",
            "loss after this epoch: 2.4611501693725586\n",
            "---------------------------------------------\n",
            " Epoch: 14\n",
            "loss after this epoch: 2.061150074005127\n",
            "---------------------------------------------\n",
            " Epoch: 15\n",
            "loss after this epoch: 2.2611501216888428\n",
            "---------------------------------------------\n",
            " Epoch: 16\n",
            "loss after this epoch: 2.2611501216888428\n",
            "---------------------------------------------\n",
            " Epoch: 17\n",
            "loss after this epoch: 2.2611501216888428\n",
            "---------------------------------------------\n",
            " Epoch: 18\n",
            "loss after this epoch: 2.061150074005127\n",
            "---------------------------------------------\n",
            " Epoch: 19\n",
            "loss after this epoch: 2.2611501216888428\n",
            "---------------------------------------------\n",
            " Epoch: 20\n",
            "loss after this epoch: 2.2611501216888428\n",
            "---------------------------------------------\n",
            " Epoch: 21\n",
            "loss after this epoch: 2.4611501693725586\n",
            "---------------------------------------------\n",
            " Epoch: 22\n",
            "loss after this epoch: 2.4611501693725586\n",
            "---------------------------------------------\n",
            " Epoch: 23\n",
            "loss after this epoch: 2.4611501693725586\n",
            "---------------------------------------------\n",
            " Epoch: 24\n",
            "loss after this epoch: 2.4611501693725586\n",
            "---------------------------------------------\n",
            " Epoch: 25\n",
            "loss after this epoch: 2.2611501216888428\n",
            "---------------------------------------------\n",
            " Epoch: 26\n",
            "loss after this epoch: 2.4611501693725586\n",
            "---------------------------------------------\n",
            " Epoch: 27\n",
            "loss after this epoch: 2.4611501693725586\n",
            "---------------------------------------------\n",
            " Epoch: 28\n",
            "loss after this epoch: 2.4611501693725586\n",
            "---------------------------------------------\n",
            " Epoch: 29\n",
            "loss after this epoch: 2.4611501693725586\n",
            "---------------------------------------------\n",
            " Epoch: 30\n",
            "loss after this epoch: 2.2611501216888428\n",
            "---------------------------------------------\n",
            " Epoch: 31\n",
            "loss after this epoch: 2.2611501216888428\n",
            "---------------------------------------------\n",
            " Epoch: 32\n",
            "loss after this epoch: 2.4611501693725586\n",
            "---------------------------------------------\n",
            " Epoch: 33\n",
            "loss after this epoch: 2.2611501216888428\n",
            "---------------------------------------------\n",
            " Epoch: 34\n",
            "loss after this epoch: 2.4611501693725586\n",
            "---------------------------------------------\n",
            " Epoch: 35\n",
            "loss after this epoch: 2.4611501693725586\n",
            "---------------------------------------------\n",
            " Epoch: 36\n",
            "loss after this epoch: 2.4611501693725586\n",
            "---------------------------------------------\n",
            " Epoch: 37\n",
            "loss after this epoch: 2.4611501693725586\n",
            "---------------------------------------------\n",
            " Epoch: 38\n",
            "loss after this epoch: 2.4611501693725586\n",
            "---------------------------------------------\n",
            " Epoch: 39\n",
            "loss after this epoch: 2.4611501693725586\n",
            "---------------------------------------------\n",
            " Epoch: 40\n",
            "loss after this epoch: 2.4611501693725586\n",
            "---------------------------------------------\n",
            " Epoch: 41\n",
            "loss after this epoch: 2.4611501693725586\n",
            "---------------------------------------------\n",
            " Epoch: 42\n",
            "loss after this epoch: 2.4611501693725586\n",
            "---------------------------------------------\n",
            " Epoch: 43\n",
            "loss after this epoch: 2.2611501216888428\n",
            "---------------------------------------------\n",
            " Epoch: 44\n",
            "loss after this epoch: 2.4611501693725586\n",
            "---------------------------------------------\n",
            " Epoch: 45\n",
            "loss after this epoch: 2.4611501693725586\n",
            "---------------------------------------------\n",
            " Epoch: 46\n",
            "loss after this epoch: 2.4611501693725586\n",
            "---------------------------------------------\n",
            " Epoch: 47\n",
            "loss after this epoch: 2.2611501216888428\n",
            "---------------------------------------------\n",
            " Epoch: 48\n",
            "loss after this epoch: 2.2611501216888428\n",
            "---------------------------------------------\n",
            " Epoch: 49\n",
            "loss after this epoch: 2.2611501216888428\n",
            "---------------------------------------------\n",
            " Epoch: 50\n",
            "loss after this epoch: 1.8611501455307007\n",
            "---------------------------------------------\n",
            "Checking accuracy on testing data\n",
            "Got 1000/10000 with the accuracy of 10.00\n"
          ]
        }
      ]
    }
  ]
}